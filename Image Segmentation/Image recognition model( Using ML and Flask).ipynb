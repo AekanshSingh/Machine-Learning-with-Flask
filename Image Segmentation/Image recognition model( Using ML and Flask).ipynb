{
 "cells": [
  {
   "cell_type": "markdown",
   "id": "civil-cornwall",
   "metadata": {},
   "source": [
    "* Load our Machine Learning model;\n",
    "* Define what happens when he uploads the photo in the main homepage; and\n",
    "* Apply our Machine Learning model to the image and show the user the results in a separate “prediction” page."
   ]
  },
  {
   "cell_type": "code",
   "execution_count": 1,
   "id": "opponent-thermal",
   "metadata": {},
   "outputs": [],
   "source": [
    "import os\n",
    "from flask import Flask, request, redirect, url_for, render_template\n",
    "from werkzeug.utils import secure_filename"
   ]
  },
  {
   "cell_type": "code",
   "execution_count": 2,
   "id": "understanding-contest",
   "metadata": {},
   "outputs": [],
   "source": [
    "app = Flask(__name__)"
   ]
  },
  {
   "cell_type": "code",
   "execution_count": 3,
   "id": "varied-standard",
   "metadata": {},
   "outputs": [
    {
     "name": "stdout",
     "output_type": "stream",
     "text": [
      "Loading model\n"
     ]
    }
   ],
   "source": [
    "from keras.models import load_model\n",
    "from tensorflow.compat.v1.keras.backend import set_session\n",
    "##! pip install scikit-image\n",
    "from skimage.transform import resize\n",
    "import matplotlib.pyplot as plt\n",
    "import tensorflow as tf\n",
    "import numpy as np\n",
    "print(\"Loading model\")\n",
    "global sess\n",
    "sess = tf.compat.v1.Session()\n",
    "set_session(sess)\n",
    "\n",
    "global graph\n",
    "graph =tf.compat.v1.get_default_graph()"
   ]
  },
  {
   "cell_type": "code",
   "execution_count": 4,
   "id": "metropolitan-armor",
   "metadata": {},
   "outputs": [],
   "source": [
    "@app.route('/', methods=['GET', 'POST'])\n",
    "def mainpage():\n",
    "    if request.method == 'POST':\n",
    "        file = request.files['file']\n",
    "        filename = secure_filename(file.filename)\n",
    "        file.save(os.path.join('uploads', filename))\n",
    "        return redirect(url_for('prediction', filename=filename))\n",
    "    return render_template('index1.html')"
   ]
  },
  {
   "cell_type": "code",
   "execution_count": 5,
   "id": "congressional-protection",
   "metadata": {},
   "outputs": [],
   "source": [
    "@app.route('/prediction/<filename>')\n",
    "def prediction(filename):\n",
    "    #Step 1\n",
    "    my_image = plt.imread(os.path.join('uploads', filename))\n",
    "    #Step 2\n",
    "    my_image_re = resize(my_image, (32,32,3))\n",
    "    \n",
    "    #Step 3\n",
    "    with graph.as_default():\n",
    "        set_session(sess)\n",
    "        global model\n",
    "        model = load_model('my_cifar10_model.h5')\n",
    "        probabilities =model.predict(np.array( [my_image_re,] ))[0,:]\n",
    "        print(probabilities)\n",
    "#Step 4\n",
    "        number_to_class = ['airplane', 'automobile', 'bird', 'cat', 'deer', 'dog', 'frog', 'horse', 'ship', 'truck']\n",
    "        index = np.argsort(probabilities)\n",
    "        predictions = {\n",
    "         \"class1\":number_to_class[index[9]],\n",
    "         \"class2\":number_to_class[index[8]],\n",
    "         \"class3\":number_to_class[index[7]],\n",
    "         \"prob1\":probabilities[index[9]],\n",
    "         \"prob2\":probabilities[index[8]],\n",
    "         \"prob3\":probabilities[index[7]],\n",
    "      }\n",
    "#Step 5\n",
    "    return render_template('predict.html', predictions=predictions)"
   ]
  },
  {
   "cell_type": "code",
   "execution_count": null,
   "id": "hollow-corporation",
   "metadata": {
    "scrolled": false
   },
   "outputs": [
    {
     "name": "stdout",
     "output_type": "stream",
     "text": [
      " * Serving Flask app '__main__' (lazy loading)\n",
      " * Environment: production\n",
      "   WARNING: This is a development server. Do not use it in a production deployment.\n",
      "   Use a production WSGI server instead.\n",
      " * Debug mode: on\n"
     ]
    },
    {
     "name": "stderr",
     "output_type": "stream",
     "text": [
      " * Running on http://127.0.0.1:9999/ (Press CTRL+C to quit)\n",
      "127.0.0.1 - - [31/May/2021 15:13:44] \"GET / HTTP/1.1\" 200 -\n",
      "127.0.0.1 - - [31/May/2021 15:13:50] \"POST / HTTP/1.1\" 302 -\n",
      "C:\\Users\\lenovo\\AppData\\Roaming\\Python\\Python38\\site-packages\\tensorflow\\python\\keras\\engine\\training.py:2325: UserWarning: `Model.state_updates` will be removed in a future version. This property should not be used in TensorFlow 2.0, as `updates` are applied automatically.\n",
      "  warnings.warn('`Model.state_updates` will be removed in a future version. '\n",
      "127.0.0.1 - - [31/May/2021 15:13:52] \"GET /prediction/Capture.JPG HTTP/1.1\" 200 -\n"
     ]
    },
    {
     "name": "stdout",
     "output_type": "stream",
     "text": [
      "[5.7842972e-05 9.0313472e-07 7.3095202e-03 3.9368890e-02 2.8472072e-02\n",
      " 8.5181206e-01 1.8364525e-03 7.1114384e-02 2.1190621e-05 6.7488018e-06]\n"
     ]
    },
    {
     "name": "stderr",
     "output_type": "stream",
     "text": [
      "127.0.0.1 - - [31/May/2021 15:14:05] \"GET / HTTP/1.1\" 200 -\n",
      "127.0.0.1 - - [31/May/2021 15:16:10] \"POST / HTTP/1.1\" 302 -\n",
      "127.0.0.1 - - [31/May/2021 15:16:10] \"GET /prediction/Capture1.JPG HTTP/1.1\" 200 -\n"
     ]
    },
    {
     "name": "stdout",
     "output_type": "stream",
     "text": [
      "[3.5108506e-08 2.3714475e-10 1.0188257e-03 8.3408970e-01 2.1054374e-02\n",
      " 1.3094470e-01 1.2863200e-02 2.9178836e-05 5.5092420e-09 3.5218299e-08]\n"
     ]
    }
   ],
   "source": [
    "app.run(port=9999,debug=True,use_reloader=False)"
   ]
  },
  {
   "cell_type": "code",
   "execution_count": null,
   "id": "identical-fortune",
   "metadata": {},
   "outputs": [],
   "source": []
  }
 ],
 "metadata": {
  "kernelspec": {
   "display_name": "Python 3",
   "language": "python",
   "name": "python3"
  },
  "language_info": {
   "codemirror_mode": {
    "name": "ipython",
    "version": 3
   },
   "file_extension": ".py",
   "mimetype": "text/x-python",
   "name": "python",
   "nbconvert_exporter": "python",
   "pygments_lexer": "ipython3",
   "version": "3.8.6"
  }
 },
 "nbformat": 4,
 "nbformat_minor": 5
}
